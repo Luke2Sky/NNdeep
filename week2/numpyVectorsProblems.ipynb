{
 "cells": [
  {
   "cell_type": "code",
   "execution_count": 1,
   "outputs": [
    {
     "name": "stdout",
     "output_type": "stream",
     "text": [
      "[ 2.20987873  0.89157883 -1.96500936 -1.02289797  2.21218516]\n"
     ]
    }
   ],
   "source": [
    "import numpy as np\n",
    "\n",
    "a = np.random.randn(5)\n",
    "print(a)"
   ],
   "metadata": {
    "collapsed": false,
    "ExecuteTime": {
     "end_time": "2023-10-05T03:29:04.172778425Z",
     "start_time": "2023-10-05T03:29:04.156368604Z"
    }
   },
   "id": "b4a2c61983a757bf"
  },
  {
   "cell_type": "code",
   "execution_count": 2,
   "outputs": [
    {
     "name": "stdout",
     "output_type": "stream",
     "text": [
      "(5,)\n"
     ]
    }
   ],
   "source": [
    "print(a.shape)"
   ],
   "metadata": {
    "collapsed": false,
    "ExecuteTime": {
     "end_time": "2023-10-05T03:29:04.176770578Z",
     "start_time": "2023-10-05T03:29:04.173047335Z"
    }
   },
   "id": "24e1e14c07391555"
  },
  {
   "cell_type": "code",
   "execution_count": 3,
   "outputs": [
    {
     "name": "stdout",
     "output_type": "stream",
     "text": [
      "[ 2.20987873  0.89157883 -1.96500936 -1.02289797  2.21218516]\n"
     ]
    }
   ],
   "source": [
    "print(a.T)"
   ],
   "metadata": {
    "collapsed": false,
    "ExecuteTime": {
     "end_time": "2023-10-05T03:29:04.240937614Z",
     "start_time": "2023-10-05T03:29:04.177335688Z"
    }
   },
   "id": "6412f4fe0a83779f"
  },
  {
   "cell_type": "code",
   "execution_count": 4,
   "outputs": [
    {
     "name": "stdout",
     "output_type": "stream",
     "text": [
      "15.479822041275856\n"
     ]
    }
   ],
   "source": [
    "print(np.dot(a,a.T))"
   ],
   "metadata": {
    "collapsed": false,
    "ExecuteTime": {
     "end_time": "2023-10-05T03:29:04.276587986Z",
     "start_time": "2023-10-05T03:29:04.233305458Z"
    }
   },
   "id": "5084613b5aafdf6d"
  },
  {
   "cell_type": "markdown",
   "source": [
    "In this example, the 5 can be represented as both rows and columns. This is very confusing. \n",
    "We will change to using a explicit notation for both dimensions:"
   ],
   "metadata": {
    "collapsed": false
   },
   "id": "91a7738c2e3c2e75"
  },
  {
   "cell_type": "code",
   "execution_count": 5,
   "outputs": [
    {
     "name": "stdout",
     "output_type": "stream",
     "text": [
      "[[6.66419474e-01]\n",
      " [5.92448666e-04]\n",
      " [6.83277210e-01]\n",
      " [3.65093056e-01]\n",
      " [8.34188528e-01]]\n"
     ]
    }
   ],
   "source": [
    "a = np.random.randn(5,1)\n",
    "print(a)"
   ],
   "metadata": {
    "collapsed": false,
    "ExecuteTime": {
     "end_time": "2023-10-05T03:29:04.370087134Z",
     "start_time": "2023-10-05T03:29:04.327358711Z"
    }
   },
   "id": "406cde1bbe5aac48"
  },
  {
   "cell_type": "code",
   "execution_count": 6,
   "outputs": [
    {
     "name": "stdout",
     "output_type": "stream",
     "text": [
      "[[6.66419474e-01 5.92448666e-04 6.83277210e-01 3.65093056e-01\n",
      "  8.34188528e-01]]\n"
     ]
    }
   ],
   "source": [
    "print(a.T)"
   ],
   "metadata": {
    "collapsed": false,
    "ExecuteTime": {
     "end_time": "2023-10-05T03:29:04.504247938Z",
     "start_time": "2023-10-05T03:29:04.501272184Z"
    }
   },
   "id": "4099d95888893b60"
  },
  {
   "cell_type": "markdown",
   "source": [
    "Avoid using rank 1 arrays.\n",
    "Use the following inexpansive conde to garantee that the matrix is of the dimensions you want:"
   ],
   "metadata": {
    "collapsed": false
   },
   "id": "d24eb051c640f400"
  },
  {
   "cell_type": "code",
   "execution_count": 10,
   "outputs": [],
   "source": [
    "assert(a.shape==(5,1))"
   ],
   "metadata": {
    "collapsed": false,
    "ExecuteTime": {
     "end_time": "2023-10-05T03:29:36.779854398Z",
     "start_time": "2023-10-05T03:29:36.739046454Z"
    }
   },
   "id": "977a884fb80f0b01"
  },
  {
   "cell_type": "code",
   "execution_count": 13,
   "outputs": [
    {
     "data": {
      "text/plain": "(2, 2, 1)"
     },
     "execution_count": 13,
     "metadata": {},
     "output_type": "execute_result"
    }
   ],
   "source": [
    "np.array([[[1],[2]],[[3],[4]]]).shape"
   ],
   "metadata": {
    "collapsed": false,
    "ExecuteTime": {
     "end_time": "2023-10-05T03:55:37.706838270Z",
     "start_time": "2023-10-05T03:55:37.664675508Z"
    }
   },
   "id": "ef61e0c78df41fbf"
  },
  {
   "cell_type": "code",
   "execution_count": 14,
   "outputs": [
    {
     "data": {
      "text/plain": "array([[-0.32385776,  2.58816376, -0.20695959],\n       [-0.86823762,  0.55967266, -0.71846216],\n       [-0.67028886, -0.42566795, -0.71003757],\n       [ 1.58625137, -3.18440525, -1.35626433]])"
     },
     "execution_count": 14,
     "metadata": {},
     "output_type": "execute_result"
    }
   ],
   "source": [
    "a = np.random.randn(4,3)\n",
    "b = np.random.randn(1,3)\n",
    "a*b"
   ],
   "metadata": {
    "collapsed": false,
    "ExecuteTime": {
     "end_time": "2023-10-05T03:57:34.440022961Z",
     "start_time": "2023-10-05T03:57:34.399019916Z"
    }
   },
   "id": "a8c9fcbabc876f5f"
  },
  {
   "cell_type": "code",
   "execution_count": 16,
   "outputs": [
    {
     "data": {
      "text/plain": "array([[4, 1],\n       [1, 9]])"
     },
     "execution_count": 16,
     "metadata": {},
     "output_type": "execute_result"
    }
   ],
   "source": [
    "np.array([[2,1],[1,3]])*np.array([[2,1],[1,3]])"
   ],
   "metadata": {
    "collapsed": false,
    "ExecuteTime": {
     "end_time": "2023-10-05T04:00:24.610182022Z",
     "start_time": "2023-10-05T04:00:24.603203891Z"
    }
   },
   "id": "fa5ab723b2ce9d8a"
  },
  {
   "cell_type": "code",
   "execution_count": null,
   "outputs": [],
   "source": [],
   "metadata": {
    "collapsed": false
   },
   "id": "bd89ff712badf3ae"
  }
 ],
 "metadata": {
  "kernelspec": {
   "display_name": "Python 3",
   "language": "python",
   "name": "python3"
  },
  "language_info": {
   "codemirror_mode": {
    "name": "ipython",
    "version": 2
   },
   "file_extension": ".py",
   "mimetype": "text/x-python",
   "name": "python",
   "nbconvert_exporter": "python",
   "pygments_lexer": "ipython2",
   "version": "2.7.6"
  }
 },
 "nbformat": 4,
 "nbformat_minor": 5
}
